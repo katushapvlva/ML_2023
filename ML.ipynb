{
  "nbformat": 4,
  "nbformat_minor": 0,
  "metadata": {
    "colab": {
      "provenance": [],
      "toc_visible": true,
      "authorship_tag": "ABX9TyPUhFD9PYx2+QNxHLDutgRY"
    },
    "kernelspec": {
      "name": "python3",
      "display_name": "Python 3"
    },
    "language_info": {
      "name": "python"
    }
  },
  "cells": [
    {
      "cell_type": "code",
      "execution_count": null,
      "metadata": {
        "id": "ohqBCKSf3Pcz"
      },
      "outputs": [],
      "source": [
        "from sklearn.datasets import load_digits\n",
        "import matplotlib.pyplot as plt\n",
        "from sklearn.model_selection import train_test_split\n",
        "from sklearn.svm import SVC\n",
        "from sklearn.linear_model import LogisticRegression\n",
        "from sklearn.tree import DecisionTreeClassifier\n",
        "from sklearn.decomposition import PCA\n",
        "from sklearn.manifold import TSNE\n",
        "from sklearn.metrics import accuracy_score\n",
        "import time"
      ]
    },
    {
      "cell_type": "code",
      "source": [
        "mnist = load_digits()\n",
        "X = mnist.data\n",
        "y = mnist.target"
      ],
      "metadata": {
        "id": "kNQqKwOy4M8T"
      },
      "execution_count": null,
      "outputs": []
    },
    {
      "cell_type": "code",
      "source": [
        "X_train, X_test, y_train, y_test = train_test_split(X, y, test_size=0.2, random_state=42)"
      ],
      "metadata": {
        "id": "0odhLyGB4MtN"
      },
      "execution_count": null,
      "outputs": []
    },
    {
      "cell_type": "code",
      "source": [
        "models = {\n",
        "    \"SVM\": SVC(random_state=42),\n",
        "    \"Logistic Regression\": LogisticRegression(max_iter=10000, random_state=42),\n",
        "    \"Decision Tree\": DecisionTreeClassifier(random_state=42)\n",
        "}"
      ],
      "metadata": {
        "id": "kX1cZLpO4MMV"
      },
      "execution_count": null,
      "outputs": []
    },
    {
      "cell_type": "markdown",
      "source": [
        "**Обучение моделей на исходных данных**"
      ],
      "metadata": {
        "id": "ycArwfU04ha-"
      }
    },
    {
      "cell_type": "code",
      "source": [
        "model_accuracies_original = []\n",
        "for name, model in models.items():\n",
        "    model.fit(X_train, y_train)\n",
        "    y_pred = model.predict(X_test)\n",
        "    accuracy = accuracy_score(y_test, y_pred)\n",
        "    print(f\"{name}: Accuracy - {accuracy}\")\n",
        "    model_accuracies_original.append(accuracy)"
      ],
      "metadata": {
        "colab": {
          "base_uri": "https://localhost:8080/"
        },
        "id": "6jLjnOoT4R8L",
        "outputId": "64decc0e-a685-4b13-e5ce-670d03a19875"
      },
      "execution_count": null,
      "outputs": [
        {
          "output_type": "stream",
          "name": "stdout",
          "text": [
            "SVM: Accuracy - 0.9861111111111112\n",
            "Logistic Regression: Accuracy - 0.9722222222222222\n",
            "Decision Tree: Accuracy - 0.8416666666666667\n"
          ]
        }
      ]
    },
    {
      "cell_type": "markdown",
      "source": [
        "**Использование PCA и t-SNE для снижения размерности**"
      ],
      "metadata": {
        "id": "_aD3P6Ib4YB5"
      }
    },
    {
      "cell_type": "code",
      "source": [
        "pca = PCA(n_components=0.90, random_state=42)\n",
        "start_train_time_pca = time.time()\n",
        "X_train_pca = pca.fit_transform(X_train)\n",
        "train_time_pca = time.time() - start_train_time_pca\n",
        "\n",
        "start_test_time_pca = time.time()\n",
        "X_test_pca = pca.transform(X_test)\n",
        "test_time_pca = time.time() - start_test_time_pca\n",
        "print(f\"Number of components to explain 90% variance in PCA: {pca.n_components_}\\n\")\n",
        "print(f\"Время препроцессинга PCA (train): {train_time_pca}, с\")\n",
        "print(f\"Время препроцессинга PCA (test): {test_time_pca}, с\")\n",
        "print(f\"Время препроцессинга PCA (сумма): {train_time_pca + test_time_pca}, с\")"
      ],
      "metadata": {
        "colab": {
          "base_uri": "https://localhost:8080/"
        },
        "id": "h3ZYbzGC3Sst",
        "outputId": "b97bc5a3-814c-48b2-bc08-c589c27faed3"
      },
      "execution_count": null,
      "outputs": [
        {
          "output_type": "stream",
          "name": "stdout",
          "text": [
            "Number of components to explain 90% variance in PCA: 21\n",
            "\n",
            "Время препроцессинга PCA (train): 0.018010616302490234, с\n",
            "Время препроцессинга PCA (test): 0.004974365234375, с\n",
            "Время препроцессинга PCA (сумма): 0.022984981536865234, с\n"
          ]
        }
      ]
    },
    {
      "cell_type": "code",
      "source": [
        "tsne = TSNE(n_components=2, random_state=42)\n",
        "start_train_time_tsne = time.time()\n",
        "X_tsne = tsne.fit_transform(X)\n",
        "train_time_tsne = time.time() - start_train_time_tsne\n",
        "print(f\"Время препроцессинга t-SNE: {train_time_tsne}, с\")"
      ],
      "metadata": {
        "colab": {
          "base_uri": "https://localhost:8080/"
        },
        "id": "97jFkOrI4VT-",
        "outputId": "984cc4e3-eac5-4d03-a671-91207526337f"
      },
      "execution_count": null,
      "outputs": [
        {
          "output_type": "stream",
          "name": "stdout",
          "text": [
            "Время препроцессинга t-SNE: 12.90140962600708, с\n"
          ]
        }
      ]
    },
    {
      "cell_type": "markdown",
      "source": [
        "**Обучение моделей на сниженной размерности**"
      ],
      "metadata": {
        "id": "vEmplGFF4jr6"
      }
    },
    {
      "cell_type": "code",
      "source": [
        "model_accuracies_pca = []\n",
        "for name, model in models.items():\n",
        "    model.fit(X_train_pca, y_train)\n",
        "    y_pred = model.predict(X_test_pca)\n",
        "    accuracy = accuracy_score(y_test, y_pred)\n",
        "    print(f\"{name} on PCA: Accuracy - {accuracy}\")\n",
        "    model_accuracies_pca.append(accuracy)"
      ],
      "metadata": {
        "colab": {
          "base_uri": "https://localhost:8080/"
        },
        "id": "2APsnBC83UuY",
        "outputId": "015c7b77-104d-41d3-e6e0-d8631eccc751"
      },
      "execution_count": null,
      "outputs": [
        {
          "output_type": "stream",
          "name": "stdout",
          "text": [
            "SVM on PCA: Accuracy - 0.9861111111111112\n",
            "Logistic Regression on PCA: Accuracy - 0.9583333333333334\n",
            "Decision Tree on PCA: Accuracy - 0.8666666666666667\n"
          ]
        }
      ]
    },
    {
      "cell_type": "code",
      "source": [
        "model_accuracies_tsne = []\n",
        "for name, model in models.items():\n",
        "    model.fit(X_tsne, y)\n",
        "    y_pred = model.predict(X_tsne)\n",
        "    accuracy = accuracy_score(y, y_pred)\n",
        "    print(f\"{name} on t-SNE: Accuracy - {accuracy}\")\n",
        "    model_accuracies_tsne.append(accuracy)"
      ],
      "metadata": {
        "colab": {
          "base_uri": "https://localhost:8080/"
        },
        "id": "apGlDreC4nPG",
        "outputId": "d49e631b-0cb8-456f-8849-2908904b4892"
      },
      "execution_count": null,
      "outputs": [
        {
          "output_type": "stream",
          "name": "stdout",
          "text": [
            "SVM on t-SNE: Accuracy - 0.9760712298274903\n",
            "Logistic Regression on t-SNE: Accuracy - 0.9232053422370617\n",
            "Decision Tree on t-SNE: Accuracy - 1.0\n"
          ]
        }
      ]
    },
    {
      "cell_type": "markdown",
      "source": [
        "**Результаты**"
      ],
      "metadata": {
        "id": "qB0BmSC94uTN"
      }
    },
    {
      "cell_type": "code",
      "source": [
        "import matplotlib.pyplot as plt\n",
        "\n",
        "model_names = list(models.keys())\n",
        "\n",
        "accuracies_original = model_accuracies_original\n",
        "accuracies_pca = model_accuracies_pca\n",
        "accuracies_tsne = model_accuracies_tsne\n",
        "\n",
        "bar_width = 0.2\n",
        "\n",
        "plt.figure(figsize=(10, 6))\n",
        "\n",
        "positions_original = [i for i in range(len(model_names))]\n",
        "positions_pca = [i + bar_width for i in range(len(model_names))]\n",
        "positions_tsne = [i + 2 * bar_width for i in range(len(model_names))]\n",
        "\n",
        "plt.bar(positions_original, accuracies_original, bar_width, label='Original', color='blue', alpha=0.5)\n",
        "plt.bar(positions_pca, accuracies_pca, bar_width, label='PCA', color='green', alpha=0.5)\n",
        "plt.bar(positions_tsne, accuracies_tsne, bar_width, label='t-SNE', color='red', alpha=0.5)\n",
        "\n",
        "plt.ylabel('Accuracy')\n",
        "plt.xticks([r + bar_width for r in range(len(model_names))], model_names)\n",
        "plt.legend()\n",
        "\n",
        "plt.show()"
      ],
      "metadata": {
        "colab": {
          "base_uri": "https://localhost:8080/",
          "height": 522
        },
        "id": "zHZQc4qwBS0l",
        "outputId": "229f0d1f-0a2c-4d5b-ae59-19ab82a7e98e"
      },
      "execution_count": null,
      "outputs": [
        {
          "output_type": "display_data",
          "data": {
            "text/plain": [
              "<Figure size 1000x600 with 1 Axes>"
            ],
            "image/png": "[encoded data removed]"
          },
          "metadata": {}
        }
      ]
    },
    {
      "cell_type": "markdown",
      "source": [
        "**1. SVM**\n",
        "- алгоритм PCA: результаты такие же\n",
        "- алгоритм t-SNE: результаты хуже\n",
        "\n",
        "**2. Logistic Regression**\n",
        "- алгоритм PCA: результаты хуже\n",
        "- алгоритм t-SNE: результаты хуже\n",
        "\n",
        "**3. Decision Tree**\n",
        "- алгоритм PCA: результаты лучше\n",
        "- алгоритм t-SNE: результаты лучше\n",
        "\n",
        "Какое количество компонент необходимо, чтобы описать 90% дисперсии в PCA?\n",
        "\n",
        "**Ответ: 21 компонент.**\n",
        "\n",
        "**1. PCA**\n",
        "- время препроцессинга PCA (train): 0.02, с\n",
        "- время препроцессинга PCA (test): 0.005, с\n",
        "- время препроцессинга PCA (сумма): 0.02, с\n",
        "\n",
        "**2. t-SNE**\n",
        "- время препроцессинга t-SNE: 12.9, с"
      ],
      "metadata": {
        "id": "3uz3FIOeRE7W"
      }
    }
  ]
}